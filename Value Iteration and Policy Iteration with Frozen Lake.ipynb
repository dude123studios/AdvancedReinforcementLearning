{
 "cells": [
  {
   "cell_type": "code",
   "execution_count": 1,
   "metadata": {},
   "outputs": [
    {
     "name": "stdout",
     "output_type": "stream",
     "text": [
      "\n",
      "\u001b[41mS\u001b[0mFFF\n",
      "FHFH\n",
      "FFFH\n",
      "HFFG\n"
     ]
    }
   ],
   "source": [
    "import gym\n",
    "import numpy as np \n",
    "env = gym.make('FrozenLake-v0')\n",
    "env.render()"
   ]
  },
  {
   "cell_type": "code",
   "execution_count": 2,
   "metadata": {},
   "outputs": [],
   "source": [
    "def value_iteration(env):\n",
    "    #Set hyperperameters \n",
    "    num_iterations = 1000\n",
    "    threshold = 1e-20\n",
    "    gamma = 1.0\n",
    "    value_table = np.zeros(env.observation_space.n)\n",
    "    \n",
    "    for i in range(num_iterations):\n",
    "        #Create backup of table\n",
    "        updated_value_table = np.copy(value_table)\n",
    "        for s in range(env.observation_space.n):\n",
    "            #Update Q Value function\n",
    "            Q_values = [sum([prob*(r + gamma * updated_value_table[s_]) for prob, s_, r, _ in env.P[s][a]]) for a in range(env.action_space.n)]\n",
    "            #Recalculate value table\n",
    "            value_table[s] = max(Q_values)\n",
    "        #Check for convergance \n",
    "        if np.sum(np.fabs(value_table - updated_value_table)) <= threshold:\n",
    "            break\n",
    "    return value_table"
   ]
  },
  {
   "cell_type": "code",
   "execution_count": 3,
   "metadata": {},
   "outputs": [],
   "source": [
    "def extract_policy(value_table):\n",
    "    gamma = 1.0\n",
    "    policy = np.zeros(env.observation_space.n)\n",
    "    \n",
    "    for s in range(env.observation_space.n):\n",
    "        #Recalculate Q-Values\n",
    "        Q_values = [sum([prob*(r + gamma * value_table[s_]) for prob, s_, r, _ in env.P[s][a]]) for a in range(env.action_space.n)]\n",
    "        #The Policy will be the actions with the maximum Q-Values\n",
    "        policy[s] = np.argmax(Q_values)\n",
    "    return policy"
   ]
  },
  {
   "cell_type": "code",
   "execution_count": 4,
   "metadata": {},
   "outputs": [
    {
     "name": "stdout",
     "output_type": "stream",
     "text": [
      "[0. 3. 3. 3. 0. 0. 0. 0. 3. 1. 0. 0. 0. 2. 1. 0.]\n"
     ]
    }
   ],
   "source": [
    "optimal_value_table = value_iteration(env)\n",
    "optimal_policy = extract_policy(optimal_value_table)\n",
    "print(optimal_policy)"
   ]
  },
  {
   "cell_type": "code",
   "execution_count": 5,
   "metadata": {},
   "outputs": [
    {
     "name": "stdout",
     "output_type": "stream",
     "text": [
      "  (Left)\n",
      "\u001b[41mS\u001b[0mFFF\n",
      "FHFH\n",
      "FFFH\n",
      "HFFG\n",
      "  (Left)\n",
      "\u001b[41mS\u001b[0mFFF\n",
      "FHFH\n",
      "FFFH\n",
      "HFFG\n",
      "  (Left)\n",
      "SFFF\n",
      "FHFH\n",
      "\u001b[41mF\u001b[0mFFH\n",
      "HFFG\n",
      "  (Up)\n",
      "SFFF\n",
      "\u001b[41mF\u001b[0mHFH\n",
      "FFFH\n",
      "HFFG\n",
      "  (Left)\n",
      "\u001b[41mS\u001b[0mFFF\n",
      "FHFH\n",
      "FFFH\n",
      "HFFG\n",
      "  (Up)\n",
      "SFFF\n",
      "FHFH\n",
      "F\u001b[41mF\u001b[0mFH\n",
      "HFFG\n",
      "  (Down)\n",
      "SFFF\n",
      "FHFH\n",
      "FFFH\n",
      "H\u001b[41mF\u001b[0mFG\n",
      "  (Right)\n",
      "SFFF\n",
      "FHFH\n",
      "FFFH\n",
      "HF\u001b[41mF\u001b[0mG\n"
     ]
    }
   ],
   "source": [
    "#Play game\n",
    "max_steps = 100\n",
    "state = env.reset()\n",
    "for i in range(1, max_steps + 1):\n",
    "    action = optimal_policy[state]\n",
    "    state, reward, done, info = env.step(int(action))\n",
    "    if i % 5 == 0: \n",
    "        env.render()\n",
    "    if done:\n",
    "        break\n",
    "#From the output you can see that we found the optimal policy even with the concorruncy of a stochastic, non deterministic environment\n",
    "#The stranges thing is that all the values in the State-Value function are integers(Maybe because of dynamic convergance limits)"
   ]
  },
  {
   "cell_type": "code",
   "execution_count": 6,
   "metadata": {},
   "outputs": [],
   "source": [
    "env.reset()\n",
    "\n",
    "def compute_value_function(policy):\n",
    "    num_iterations = 1000\n",
    "    threshold = 1e-20\n",
    "    gamma = 1.0\n",
    "    value_table = np.zeros(env.observation_space.n)\n",
    "    \n",
    "    for i in range(num_iterations):\n",
    "        updated_value_table = np.copy(value_table)\n",
    "        \n",
    "        for s in range(env.observation_space.n):\n",
    "            a = policy[s]\n",
    "            \n",
    "            value_table[s] = sum([prob*(r + gamma * value_table[s_]) for prob, s_, r, _ in env.P[s][a]])\n",
    "            \n",
    "        if np.sum(np.fabs(updated_value_table-value_table)) <= threshold:\n",
    "            break\n",
    "            \n",
    "    return value_table"
   ]
  },
  {
   "cell_type": "code",
   "execution_count": 13,
   "metadata": {},
   "outputs": [],
   "source": [
    "def extract_policy_from_value_table(value_table):\n",
    "    gamma = 1.0\n",
    "    \n",
    "    policy = np.zeros(env.observation_space.n)\n",
    "    \n",
    "    for s in range(env.observation_space.n):\n",
    "        \n",
    "        Q_values = [sum([prob*(r + gamma * value_table[s_]) for prob, s_, r, _ in env.P[s][a]])  for a in range(env.action_space.n)]\n",
    "        \n",
    "        policy[s] = np.argmax(np.array(Q_values))\n",
    "    \n",
    "    return policy"
   ]
  },
  {
   "cell_type": "code",
   "execution_count": 14,
   "metadata": {},
   "outputs": [],
   "source": [
    "def policy_iteration(env):\n",
    "    num_iterations = 100\n",
    "    \n",
    "    policy = np.zeros(env.observation_space.n)\n",
    "    \n",
    "    for i in range(num_iterations):\n",
    "        value_table = compute_value_function(policy)\n",
    "        \n",
    "        new_policy = extract_policy_from_value_table(value_table)\n",
    "        \n",
    "        if np.all(policy == new_policy):\n",
    "            break\n",
    "        policy = new_policy\n",
    "        \n",
    "    return policy"
   ]
  },
  {
   "cell_type": "code",
   "execution_count": 15,
   "metadata": {},
   "outputs": [],
   "source": [
    "optimal_policy = policy_iteration(env)"
   ]
  },
  {
   "cell_type": "code",
   "execution_count": 16,
   "metadata": {},
   "outputs": [
    {
     "name": "stdout",
     "output_type": "stream",
     "text": [
      "[0. 3. 3. 3. 0. 0. 0. 0. 3. 1. 0. 0. 0. 2. 1. 0.]\n"
     ]
    }
   ],
   "source": [
    "print(optimal_policy)\n",
    "#As you can see, the policy converges to the exact same as the one in the value iteration method\n",
    "#Very interesting "
   ]
  }
 ],
 "metadata": {
  "kernelspec": {
   "display_name": "universe",
   "language": "python",
   "name": "universe"
  },
  "language_info": {
   "codemirror_mode": {
    "name": "ipython",
    "version": 3
   },
   "file_extension": ".py",
   "mimetype": "text/x-python",
   "name": "python",
   "nbconvert_exporter": "python",
   "pygments_lexer": "ipython3",
   "version": "3.6.10"
  }
 },
 "nbformat": 4,
 "nbformat_minor": 4
}
