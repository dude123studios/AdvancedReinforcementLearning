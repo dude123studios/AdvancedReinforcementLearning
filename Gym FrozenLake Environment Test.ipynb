{
 "cells": [
  {
   "cell_type": "code",
   "execution_count": 2,
   "metadata": {},
   "outputs": [
    {
     "name": "stdout",
     "output_type": "stream",
     "text": [
      "\n",
      "\u001b[41mS\u001b[0mFFF\n",
      "FHFH\n",
      "FFFH\n",
      "HFFG\n"
     ]
    }
   ],
   "source": [
    "import gym\n",
    "env = gym.make('FrozenLake-v0')\n",
    "env.render()\n",
    "#simple code to generate and render a certain game\n",
    "#use gym.make('EnvironmentName-vN') where N is the version\n",
    "#list of all availible environments is online"
   ]
  },
  {
   "cell_type": "code",
   "execution_count": 3,
   "metadata": {},
   "outputs": [
    {
     "data": {
      "text/plain": [
       "Discrete(16)"
      ]
     },
     "execution_count": 3,
     "metadata": {},
     "output_type": "execute_result"
    }
   ],
   "source": [
    "#returns the observation space. \n",
    "#It will be discrete in this case\n",
    "env.observation_space"
   ]
  },
  {
   "cell_type": "code",
   "execution_count": 4,
   "metadata": {},
   "outputs": [
    {
     "data": {
      "text/plain": [
       "Discrete(4)"
      ]
     },
     "execution_count": 4,
     "metadata": {},
     "output_type": "execute_result"
    }
   ],
   "source": [
    "#returns the action space\n",
    "#This will also be discrete \n",
    "env.action_space"
   ]
  },
  {
   "cell_type": "code",
   "execution_count": 5,
   "metadata": {},
   "outputs": [
    {
     "data": {
      "text/plain": [
       "[(0.3333333333333333, 4, 0.0, False),\n",
       " (0.3333333333333333, 1, 0.0, False),\n",
       " (0.3333333333333333, 0, 0.0, False)]"
      ]
     },
     "execution_count": 5,
     "metadata": {},
     "output_type": "execute_result"
    }
   ],
   "source": [
    "env.P[0][2]\n",
    "#The transition probability of using the action right(2) at state S(0). \n",
    "#Hmm, we have a 1/3 chance of going to state 4, or down, state 1, or right, and state 0 or stay in place. \n",
    "#The 0's at the second index in the tuples represent the reward at that state.\n",
    "#The Falses at the end state if this will be a terminal state, and clearly none of them holes or goals."
   ]
  },
  {
   "cell_type": "code",
   "execution_count": 6,
   "metadata": {},
   "outputs": [
    {
     "data": {
      "text/plain": [
       "[(0.3333333333333333, 2, 0.0, False),\n",
       " (0.3333333333333333, 7, 0.0, True),\n",
       " (0.3333333333333333, 3, 0.0, False)]"
      ]
     },
     "execution_count": 6,
     "metadata": {},
     "output_type": "execute_result"
    }
   ],
   "source": [
    "#Lets test the same for state 3 and action 1\n",
    "#In this case state 7 is a hole, so the last index of the tuple is True, meaing that it is a terminal state. \n",
    "#Again, the transition probabilities are the same, and there is no reward\n",
    "env.P[3][1]"
   ]
  },
  {
   "cell_type": "code",
   "execution_count": 7,
   "metadata": {},
   "outputs": [],
   "source": [
    "#Ok enough messing around, time to play an episode\n",
    "#reset environment with env.reset()\n",
    "state = env.reset()"
   ]
  },
  {
   "cell_type": "code",
   "execution_count": 8,
   "metadata": {},
   "outputs": [
    {
     "name": "stdout",
     "output_type": "stream",
     "text": [
      "  (Down)\n",
      "SFFF\n",
      "\u001b[41mF\u001b[0mHFH\n",
      "FFFH\n",
      "HFFG\n"
     ]
    }
   ],
   "source": [
    "#perform action 1(down)\n",
    "#Use env.step(action) function\n",
    "env.step(1)\n",
    "env.render()"
   ]
  },
  {
   "cell_type": "code",
   "execution_count": 9,
   "metadata": {},
   "outputs": [
    {
     "name": "stdout",
     "output_type": "stream",
     "text": [
      "  (Right)\n",
      "\u001b[41mS\u001b[0mFFF\n",
      "FHFH\n",
      "FFFH\n",
      "HFFG\n",
      "(0, 0.0, False, {'prob': 0.3333333333333333})\n"
     ]
    }
   ],
   "source": [
    "#Looks like we got the 1/3 chance to stay in the same place\n",
    "#lets try again\n",
    "#This time we can also get the output\n",
    "state = env.step(2)\n",
    "env.render()\n",
    "print(state)"
   ]
  },
  {
   "cell_type": "code",
   "execution_count": 10,
   "metadata": {},
   "outputs": [
    {
     "name": "stdout",
     "output_type": "stream",
     "text": [
      "  (Down)\n",
      "\u001b[41mS\u001b[0mFFF\n",
      "FHFH\n",
      "FFFH\n",
      "HFFG\n"
     ]
    }
   ],
   "source": [
    "#This time we made it to state 1.\n",
    "#We had a 'prob' of 1/3, and got a reward of 0.0\n",
    "#The False indicates that we are not at a terminal state \n",
    "#We can brake up this tuple\n",
    "next_state, reward, done, info = env.step(1)\n",
    "env.render()"
   ]
  },
  {
   "cell_type": "code",
   "execution_count": 11,
   "metadata": {},
   "outputs": [
    {
     "name": "stdout",
     "output_type": "stream",
     "text": [
      "next_state:  0\n",
      "reward:  0.0\n",
      "done:  False\n",
      "info  {'prob': 0.3333333333333333}\n"
     ]
    }
   ],
   "source": [
    "print('next_state: ', next_state)\n",
    "print('reward: ', reward)\n",
    "print('done: ', done)\n",
    "print('info ', info)"
   ]
  },
  {
   "cell_type": "code",
   "execution_count": 12,
   "metadata": {},
   "outputs": [
    {
     "name": "stdout",
     "output_type": "stream",
     "text": [
      "  (Right)\n",
      "SFFF\n",
      "\u001b[41mF\u001b[0mHFH\n",
      "FFFH\n",
      "HFFG\n"
     ]
    }
   ],
   "source": [
    "#We see that in this case we are done, because we reached a hole(That took a lot of attempts lol)\n",
    "#We got all the results we expected to see\n",
    "#Lets see how we can pick a random action \n",
    "#First, we need to reset, since we lost the game\n",
    "env.reset()\n",
    "random_action = env.action_space.sample()\n",
    "next_state, reward, done, info = env.step(random_action)\n",
    "env.render()"
   ]
  },
  {
   "cell_type": "code",
   "execution_count": 13,
   "metadata": {},
   "outputs": [
    {
     "name": "stdout",
     "output_type": "stream",
     "text": [
      "Time Step 0 :\n",
      "\n",
      "\u001b[41mS\u001b[0mFFF\n",
      "FHFH\n",
      "FFFH\n",
      "HFFG\n",
      "Time Step 1:\n",
      "  (Down)\n",
      "SFFF\n",
      "\u001b[41mF\u001b[0mHFH\n",
      "FFFH\n",
      "HFFG\n",
      "Time Step 2:\n",
      "  (Up)\n",
      "\u001b[41mS\u001b[0mFFF\n",
      "FHFH\n",
      "FFFH\n",
      "HFFG\n",
      "Time Step 3:\n",
      "  (Up)\n",
      "S\u001b[41mF\u001b[0mFF\n",
      "FHFH\n",
      "FFFH\n",
      "HFFG\n",
      "Time Step 4:\n",
      "  (Down)\n",
      "SFFF\n",
      "F\u001b[41mH\u001b[0mFH\n",
      "FFFH\n",
      "HFFG\n"
     ]
    }
   ],
   "source": [
    "#It looks as though our action was down, but we stayed in the same place with 1/3 probability \n",
    "#Lets test out some more randomness. \n",
    "#Lets automatically generate a complete episode randomly\n",
    "\n",
    "state = env.reset()\n",
    "print('Time Step 0 :')\n",
    "env.render()\n",
    "\n",
    "#Cap the number of moves as 20\n",
    "num_timesteps = 20\n",
    "\n",
    "for t in range(num_timesteps):\n",
    "    \n",
    "    #Randomly sample action\n",
    "    random_action = env.action_space.sample()\n",
    "    new_state, reward, done, info = env.step(random_action)\n",
    "    \n",
    "    print('Time Step {}:'.format(t+1))\n",
    "    env.render()\n",
    "    \n",
    "    #Check if the game is over\n",
    "    if done:\n",
    "        break"
   ]
  },
  {
   "cell_type": "code",
   "execution_count": 14,
   "metadata": {},
   "outputs": [],
   "source": [
    "#Unfortunate! It looks as though we lost the game.\n",
    "#In a training environment, you would look through many episodes \n",
    "#Lets see how we can do so\n",
    "#The code is pretty similar\n",
    "num_episodes = 10\n",
    "num_timesteps = 20\n",
    "\n",
    "for i in range(num_episodes):\n",
    "    state = env.reset()\n",
    "    #print('Time Step 0:')\n",
    "    #env.render()\n",
    "    \n",
    "    for t in range(num_timesteps):\n",
    "        random_action = env.action_space.sample()\n",
    "        new_state, reward, done, info = env.step(random_action)\n",
    "        #print('Time Step {}'.format(t + 1))\n",
    "            \n",
    "        #env.render()\n",
    "        if done:\n",
    "            break\n",
    "            "
   ]
  },
  {
   "cell_type": "code",
   "execution_count": 16,
   "metadata": {},
   "outputs": [],
   "source": [
    "#When we are done using the environment, use env.close()\n",
    "env.close()"
   ]
  }
 ],
 "metadata": {
  "kernelspec": {
   "display_name": "Python 3",
   "language": "python",
   "name": "python3"
  },
  "language_info": {
   "codemirror_mode": {
    "name": "ipython",
    "version": 3
   },
   "file_extension": ".py",
   "mimetype": "text/x-python",
   "name": "python",
   "nbconvert_exporter": "python",
   "pygments_lexer": "ipython3",
   "version": "3.6.10"
  }
 },
 "nbformat": 4,
 "nbformat_minor": 4
}
