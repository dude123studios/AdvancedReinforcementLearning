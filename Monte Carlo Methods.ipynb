{
 "cells": [
  {
   "cell_type": "code",
   "execution_count": 1,
   "metadata": {},
   "outputs": [
    {
     "name": "stdout",
     "output_type": "stream",
     "text": [
      "(9, 10, False)\n"
     ]
    }
   ],
   "source": [
    "import gym\n",
    "\n",
    "#We will be using the game blackjack\n",
    "env = gym.make('Blackjack-v0')\n",
    "#Lets check out what the environment looks like\n",
    "print(env.reset())"
   ]
  },
  {
   "cell_type": "code",
   "execution_count": 2,
   "metadata": {},
   "outputs": [
    {
     "name": "stdout",
     "output_type": "stream",
     "text": [
      "Discrete(2)\n"
     ]
    }
   ],
   "source": [
    "#The 8 means that the sum of the two cards that we have is 8\n",
    "#6 means that the value of the face up card from the dealer is 6. \n",
    "#The False means that we don't have a usable ace\n",
    "#Lets look at our action sample space\n",
    "print(env.action_space)"
   ]
  },
  {
   "cell_type": "code",
   "execution_count": 3,
   "metadata": {},
   "outputs": [],
   "source": [
    "#A 0 means that we stand(reveal cards and end game)\n",
    "#A 1 means that we hit(draw a new card)\n",
    "\n",
    "import pandas as pd\n",
    "from collections import defaultdict"
   ]
  },
  {
   "cell_type": "code",
   "execution_count": 4,
   "metadata": {},
   "outputs": [],
   "source": [
    "#This is a semi-optimal policy\n",
    "#For now, we are only doing the monte carlo prediction task\n",
    "def policy(state):\n",
    "    return 0 if state[0] > 19 else 1"
   ]
  },
  {
   "cell_type": "code",
   "execution_count": 5,
   "metadata": {},
   "outputs": [
    {
     "name": "stdout",
     "output_type": "stream",
     "text": [
      "(13, 10, False)\n"
     ]
    }
   ],
   "source": [
    "state = env.reset()\n",
    "print(state)"
   ]
  },
  {
   "cell_type": "code",
   "execution_count": 6,
   "metadata": {},
   "outputs": [
    {
     "name": "stdout",
     "output_type": "stream",
     "text": [
      "1\n"
     ]
    }
   ],
   "source": [
    "print(policy(state))"
   ]
  },
  {
   "cell_type": "code",
   "execution_count": 7,
   "metadata": {},
   "outputs": [
    {
     "name": "stdout",
     "output_type": "stream",
     "text": [
      "[((21, 2, True), 0, 1.0)]\n"
     ]
    }
   ],
   "source": [
    "num_timesteps = 10\n",
    "\n",
    "def generate_episode(policy):\n",
    "    episode = []\n",
    "    \n",
    "    state = env.reset()\n",
    "    \n",
    "    for t in range(num_timesteps):\n",
    "        action = policy(state)\n",
    "        \n",
    "        next_state, reward, done, info = env.step(action)\n",
    "        \n",
    "        episode.append((state, action, reward))\n",
    "        \n",
    "        if done:\n",
    "            break\n",
    "        state = next_state\n",
    "    \n",
    "    return episode \n",
    "\n",
    "print(generate_episode(policy))"
   ]
  },
  {
   "cell_type": "code",
   "execution_count": 8,
   "metadata": {},
   "outputs": [],
   "source": [
    "#Now lets compute the value function\n",
    "\n",
    "total_return = defaultdict(float)\n",
    "N = defaultdict(int)\n",
    "\n",
    "num_iterations = 5000\n",
    "\n",
    "for i in range(num_iterations):\n",
    "    \n",
    "    episode = generate_episode(policy)\n",
    "    \n",
    "    states, actions, rewards = zip(*episode)\n",
    "    \n",
    "    for t, state in enumerate(states):\n",
    "        R = sum(rewards[t:])\n",
    "        \n",
    "        total_return[state] = total_return[state] + R\n",
    "        \n",
    "        N[state] = N[state] + 1"
   ]
  },
  {
   "cell_type": "code",
   "execution_count": 9,
   "metadata": {},
   "outputs": [
    {
     "data": {
      "text/html": [
       "<div>\n",
       "<style scoped>\n",
       "    .dataframe tbody tr th:only-of-type {\n",
       "        vertical-align: middle;\n",
       "    }\n",
       "\n",
       "    .dataframe tbody tr th {\n",
       "        vertical-align: top;\n",
       "    }\n",
       "\n",
       "    .dataframe thead th {\n",
       "        text-align: right;\n",
       "    }\n",
       "</style>\n",
       "<table border=\"1\" class=\"dataframe\">\n",
       "  <thead>\n",
       "    <tr style=\"text-align: right;\">\n",
       "      <th></th>\n",
       "      <th>state</th>\n",
       "      <th>total_return</th>\n",
       "      <th>N</th>\n",
       "    </tr>\n",
       "  </thead>\n",
       "  <tbody>\n",
       "    <tr>\n",
       "      <th>0</th>\n",
       "      <td>(19, 3, False)</td>\n",
       "      <td>-49.0</td>\n",
       "      <td>58</td>\n",
       "    </tr>\n",
       "    <tr>\n",
       "      <th>1</th>\n",
       "      <td>(14, 9, False)</td>\n",
       "      <td>-27.0</td>\n",
       "      <td>45</td>\n",
       "    </tr>\n",
       "    <tr>\n",
       "      <th>2</th>\n",
       "      <td>(16, 10, False)</td>\n",
       "      <td>-161.0</td>\n",
       "      <td>219</td>\n",
       "    </tr>\n",
       "    <tr>\n",
       "      <th>3</th>\n",
       "      <td>(8, 2, False)</td>\n",
       "      <td>-7.0</td>\n",
       "      <td>9</td>\n",
       "    </tr>\n",
       "    <tr>\n",
       "      <th>4</th>\n",
       "      <td>(16, 2, False)</td>\n",
       "      <td>-46.0</td>\n",
       "      <td>56</td>\n",
       "    </tr>\n",
       "    <tr>\n",
       "      <th>5</th>\n",
       "      <td>(10, 1, False)</td>\n",
       "      <td>-2.0</td>\n",
       "      <td>20</td>\n",
       "    </tr>\n",
       "    <tr>\n",
       "      <th>6</th>\n",
       "      <td>(13, 1, False)</td>\n",
       "      <td>-33.0</td>\n",
       "      <td>50</td>\n",
       "    </tr>\n",
       "    <tr>\n",
       "      <th>7</th>\n",
       "      <td>(15, 1, False)</td>\n",
       "      <td>-40.0</td>\n",
       "      <td>49</td>\n",
       "    </tr>\n",
       "    <tr>\n",
       "      <th>8</th>\n",
       "      <td>(19, 1, False)</td>\n",
       "      <td>-37.0</td>\n",
       "      <td>63</td>\n",
       "    </tr>\n",
       "    <tr>\n",
       "      <th>9</th>\n",
       "      <td>(11, 10, False)</td>\n",
       "      <td>-26.0</td>\n",
       "      <td>88</td>\n",
       "    </tr>\n",
       "  </tbody>\n",
       "</table>\n",
       "</div>"
      ],
      "text/plain": [
       "             state  total_return    N\n",
       "0   (19, 3, False)         -49.0   58\n",
       "1   (14, 9, False)         -27.0   45\n",
       "2  (16, 10, False)        -161.0  219\n",
       "3    (8, 2, False)          -7.0    9\n",
       "4   (16, 2, False)         -46.0   56\n",
       "5   (10, 1, False)          -2.0   20\n",
       "6   (13, 1, False)         -33.0   50\n",
       "7   (15, 1, False)         -40.0   49\n",
       "8   (19, 1, False)         -37.0   63\n",
       "9  (11, 10, False)         -26.0   88"
      ]
     },
     "execution_count": 9,
     "metadata": {},
     "output_type": "execute_result"
    }
   ],
   "source": [
    "#Visualize data\n",
    "total_return = pd.DataFrame(total_return.items(), columns = ['state', 'total_return'])\n",
    "N = pd.DataFrame(N.items(), columns=['state', 'N'])\n",
    "df = pd.merge(total_return, N, on=\"state\")\n",
    "df.head(10)"
   ]
  },
  {
   "cell_type": "code",
   "execution_count": 10,
   "metadata": {},
   "outputs": [
    {
     "data": {
      "text/html": [
       "<div>\n",
       "<style scoped>\n",
       "    .dataframe tbody tr th:only-of-type {\n",
       "        vertical-align: middle;\n",
       "    }\n",
       "\n",
       "    .dataframe tbody tr th {\n",
       "        vertical-align: top;\n",
       "    }\n",
       "\n",
       "    .dataframe thead th {\n",
       "        text-align: right;\n",
       "    }\n",
       "</style>\n",
       "<table border=\"1\" class=\"dataframe\">\n",
       "  <thead>\n",
       "    <tr style=\"text-align: right;\">\n",
       "      <th></th>\n",
       "      <th>state</th>\n",
       "      <th>total_return</th>\n",
       "      <th>N</th>\n",
       "      <th>value</th>\n",
       "    </tr>\n",
       "  </thead>\n",
       "  <tbody>\n",
       "    <tr>\n",
       "      <th>0</th>\n",
       "      <td>(19, 3, False)</td>\n",
       "      <td>-49.0</td>\n",
       "      <td>58</td>\n",
       "      <td>-0.844828</td>\n",
       "    </tr>\n",
       "    <tr>\n",
       "      <th>1</th>\n",
       "      <td>(14, 9, False)</td>\n",
       "      <td>-27.0</td>\n",
       "      <td>45</td>\n",
       "      <td>-0.600000</td>\n",
       "    </tr>\n",
       "    <tr>\n",
       "      <th>2</th>\n",
       "      <td>(16, 10, False)</td>\n",
       "      <td>-161.0</td>\n",
       "      <td>219</td>\n",
       "      <td>-0.735160</td>\n",
       "    </tr>\n",
       "    <tr>\n",
       "      <th>3</th>\n",
       "      <td>(8, 2, False)</td>\n",
       "      <td>-7.0</td>\n",
       "      <td>9</td>\n",
       "      <td>-0.777778</td>\n",
       "    </tr>\n",
       "    <tr>\n",
       "      <th>4</th>\n",
       "      <td>(16, 2, False)</td>\n",
       "      <td>-46.0</td>\n",
       "      <td>56</td>\n",
       "      <td>-0.821429</td>\n",
       "    </tr>\n",
       "    <tr>\n",
       "      <th>5</th>\n",
       "      <td>(10, 1, False)</td>\n",
       "      <td>-2.0</td>\n",
       "      <td>20</td>\n",
       "      <td>-0.100000</td>\n",
       "    </tr>\n",
       "    <tr>\n",
       "      <th>6</th>\n",
       "      <td>(13, 1, False)</td>\n",
       "      <td>-33.0</td>\n",
       "      <td>50</td>\n",
       "      <td>-0.660000</td>\n",
       "    </tr>\n",
       "    <tr>\n",
       "      <th>7</th>\n",
       "      <td>(15, 1, False)</td>\n",
       "      <td>-40.0</td>\n",
       "      <td>49</td>\n",
       "      <td>-0.816327</td>\n",
       "    </tr>\n",
       "    <tr>\n",
       "      <th>8</th>\n",
       "      <td>(19, 1, False)</td>\n",
       "      <td>-37.0</td>\n",
       "      <td>63</td>\n",
       "      <td>-0.587302</td>\n",
       "    </tr>\n",
       "    <tr>\n",
       "      <th>9</th>\n",
       "      <td>(11, 10, False)</td>\n",
       "      <td>-26.0</td>\n",
       "      <td>88</td>\n",
       "      <td>-0.295455</td>\n",
       "    </tr>\n",
       "  </tbody>\n",
       "</table>\n",
       "</div>"
      ],
      "text/plain": [
       "             state  total_return    N     value\n",
       "0   (19, 3, False)         -49.0   58 -0.844828\n",
       "1   (14, 9, False)         -27.0   45 -0.600000\n",
       "2  (16, 10, False)        -161.0  219 -0.735160\n",
       "3    (8, 2, False)          -7.0    9 -0.777778\n",
       "4   (16, 2, False)         -46.0   56 -0.821429\n",
       "5   (10, 1, False)          -2.0   20 -0.100000\n",
       "6   (13, 1, False)         -33.0   50 -0.660000\n",
       "7   (15, 1, False)         -40.0   49 -0.816327\n",
       "8   (19, 1, False)         -37.0   63 -0.587302\n",
       "9  (11, 10, False)         -26.0   88 -0.295455"
      ]
     },
     "execution_count": 10,
     "metadata": {},
     "output_type": "execute_result"
    }
   ],
   "source": [
    "df['value'] = df['total_return']/df['N']\n",
    "df.head(10)"
   ]
  },
  {
   "cell_type": "code",
   "execution_count": 11,
   "metadata": {},
   "outputs": [],
   "source": [
    "#The last prediction method used every-visit mc\n",
    "#Lets try first visit mc, which works fine if the environment is deterministic \n",
    "total_return = defaultdict(float)\n",
    "N = defaultdict(int)\n",
    "\n",
    "num_iterations = 5000\n",
    "\n",
    "for i in range(num_iterations):\n",
    "    \n",
    "    episode = generate_episode(policy)\n",
    "    \n",
    "    states, actions, rewards = zip(*episode)\n",
    "    \n",
    "    for t, state in enumerate(states):\n",
    "        if state not in states[0:t]:\n",
    "            R = sum(rewards[t:])\n",
    "        \n",
    "            total_return[state] = total_return[state] + R\n",
    "        \n",
    "            N[state] = N[state] + 1"
   ]
  },
  {
   "cell_type": "code",
   "execution_count": 39,
   "metadata": {},
   "outputs": [],
   "source": [
    "#Now lets implement on-policy MC control with epsilon greedy policy\n",
    "import random\n",
    "\n",
    "Q = defaultdict(float)\n",
    "total_return = defaultdict(float)\n",
    "N = defaultdict(int)\n",
    "\n",
    "epsilon = 0.5\n",
    "\n",
    "def epsilon_greedy_policy(state):\n",
    "    \n",
    "    if random.uniform(0, 1) < epsilon:\n",
    "        return env.action_space.sample()\n",
    "    else:\n",
    "        #Computes index of maximum value, aka diy argmax\n",
    "        return max(list(range(env.action_space.n)), key = lambda x: Q[(state, x)])"
   ]
  },
  {
   "cell_type": "code",
   "execution_count": 40,
   "metadata": {},
   "outputs": [],
   "source": [
    "num_timesteps = 10\n",
    "\n",
    "def generate_episode():\n",
    "    episode = []\n",
    "    state = env.reset()\n",
    "    \n",
    "    for t in range(num_timesteps):\n",
    "        action = epsilon_greedy_policy(state)\n",
    "        \n",
    "        next_state, reward, done, info = env.step(action)\n",
    "        \n",
    "        episode.append((state, action, reward))\n",
    "        \n",
    "        if done:\n",
    "            break\n",
    "        state = next_state\n",
    "    \n",
    "    return episode"
   ]
  },
  {
   "cell_type": "code",
   "execution_count": 41,
   "metadata": {},
   "outputs": [],
   "source": [
    "num_iterations = 5000\n",
    "for i in range(num_iterations):\n",
    "    \n",
    "    episode = generate_episode()\n",
    "    \n",
    "    all_state_action_pairs = [(s, a) for (s, a, r) in episode]\n",
    "    \n",
    "    rewards = [r for (s, a, r) in episode]\n",
    "    \n",
    "    for t, (state, action, _) in enumerate(episode):\n",
    "        if not (state, action) in all_state_action_pairs[0:t]:\n",
    "            \n",
    "            R = sum(rewards[t:])\n",
    "            total_return[(state, action)] += R\n",
    "            N[(state, action)] += 1\n",
    "            Q[(state, action)] = total_return[(state, action)]/N[(state, action)]"
   ]
  },
  {
   "cell_type": "code",
   "execution_count": 42,
   "metadata": {},
   "outputs": [
    {
     "data": {
      "text/html": [
       "<div>\n",
       "<style scoped>\n",
       "    .dataframe tbody tr th:only-of-type {\n",
       "        vertical-align: middle;\n",
       "    }\n",
       "\n",
       "    .dataframe tbody tr th {\n",
       "        vertical-align: top;\n",
       "    }\n",
       "\n",
       "    .dataframe thead th {\n",
       "        text-align: right;\n",
       "    }\n",
       "</style>\n",
       "<table border=\"1\" class=\"dataframe\">\n",
       "  <thead>\n",
       "    <tr style=\"text-align: right;\">\n",
       "      <th></th>\n",
       "      <th>state_action pair</th>\n",
       "      <th>value</th>\n",
       "    </tr>\n",
       "  </thead>\n",
       "  <tbody>\n",
       "    <tr>\n",
       "      <th>0</th>\n",
       "      <td>((20, 10, False), 0)</td>\n",
       "      <td>0.376623</td>\n",
       "    </tr>\n",
       "    <tr>\n",
       "      <th>1</th>\n",
       "      <td>((20, 10, False), 1)</td>\n",
       "      <td>-0.884615</td>\n",
       "    </tr>\n",
       "    <tr>\n",
       "      <th>2</th>\n",
       "      <td>((19, 10, False), 0)</td>\n",
       "      <td>-0.065934</td>\n",
       "    </tr>\n",
       "    <tr>\n",
       "      <th>3</th>\n",
       "      <td>((19, 10, False), 1)</td>\n",
       "      <td>-0.777778</td>\n",
       "    </tr>\n",
       "    <tr>\n",
       "      <th>4</th>\n",
       "      <td>((15, 10, False), 1)</td>\n",
       "      <td>-0.755102</td>\n",
       "    </tr>\n",
       "    <tr>\n",
       "      <th>5</th>\n",
       "      <td>((20, 1, False), 0)</td>\n",
       "      <td>0.400000</td>\n",
       "    </tr>\n",
       "    <tr>\n",
       "      <th>6</th>\n",
       "      <td>((20, 1, False), 1)</td>\n",
       "      <td>-0.750000</td>\n",
       "    </tr>\n",
       "    <tr>\n",
       "      <th>7</th>\n",
       "      <td>((14, 5, False), 0)</td>\n",
       "      <td>-0.214286</td>\n",
       "    </tr>\n",
       "    <tr>\n",
       "      <th>8</th>\n",
       "      <td>((14, 5, False), 1)</td>\n",
       "      <td>-0.222222</td>\n",
       "    </tr>\n",
       "    <tr>\n",
       "      <th>9</th>\n",
       "      <td>((10, 2, False), 0)</td>\n",
       "      <td>-0.333333</td>\n",
       "    </tr>\n",
       "  </tbody>\n",
       "</table>\n",
       "</div>"
      ],
      "text/plain": [
       "      state_action pair     value\n",
       "0  ((20, 10, False), 0)  0.376623\n",
       "1  ((20, 10, False), 1) -0.884615\n",
       "2  ((19, 10, False), 0) -0.065934\n",
       "3  ((19, 10, False), 1) -0.777778\n",
       "4  ((15, 10, False), 1) -0.755102\n",
       "5   ((20, 1, False), 0)  0.400000\n",
       "6   ((20, 1, False), 1) -0.750000\n",
       "7   ((14, 5, False), 0) -0.214286\n",
       "8   ((14, 5, False), 1) -0.222222\n",
       "9   ((10, 2, False), 0) -0.333333"
      ]
     },
     "execution_count": 42,
     "metadata": {},
     "output_type": "execute_result"
    }
   ],
   "source": [
    "df = pd.DataFrame(Q.items(), columns=['state_action pair', 'value'])\n",
    "df.head(10)"
   ]
  },
  {
   "cell_type": "code",
   "execution_count": null,
   "metadata": {},
   "outputs": [],
   "source": [
    "#Lets now try off policy Monete Carlo \n",
    "#There are two policies, b and pi. Pi is attempted to be optimized. \n",
    "#Q value updates are in ratio pi(a | s)/b(a | s)\n",
    "#If at any action pi(a | s)> b(a | s), \n",
    "#or the probability of the good policy doing an action is higher than the bad policy doing the action Q values should be updated more\n",
    "#If the probability of pi doing an action is less than b doing that action, then \n",
    "\n",
    "Q = defaultdict(float)\n",
    "N = defaultdict(int)\n",
    "C = defaultdict(float)\n",
    "\n",
    "def behavior_policy()"
   ]
  }
 ],
 "metadata": {
  "kernelspec": {
   "display_name": "universe",
   "language": "python",
   "name": "universe"
  },
  "language_info": {
   "codemirror_mode": {
    "name": "ipython",
    "version": 3
   },
   "file_extension": ".py",
   "mimetype": "text/x-python",
   "name": "python",
   "nbconvert_exporter": "python",
   "pygments_lexer": "ipython3",
   "version": "3.6.10"
  }
 },
 "nbformat": 4,
 "nbformat_minor": 4
}
