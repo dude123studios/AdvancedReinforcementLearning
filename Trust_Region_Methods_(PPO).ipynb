{
  "nbformat": 4,
  "nbformat_minor": 0,
  "metadata": {
    "accelerator": "GPU",
    "colab": {
      "name": "Trust Region Methods (PPO)",
      "provenance": [],
      "collapsed_sections": [],
      "authorship_tag": "ABX9TyPAF3Pn4BnW5FYmkUxieArb",
      "include_colab_link": true
    },
    "kernelspec": {
      "display_name": "Python 3",
      "name": "python3"
    },
    "language_info": {
      "name": "python"
    }
  },
  "cells": [
    {
      "cell_type": "markdown",
      "metadata": {
        "id": "view-in-github",
        "colab_type": "text"
      },
      "source": [
        "<a href=\"https://colab.research.google.com/github/dude123studios/AdvancedReinforcementLearning/blob/main/Trust_Region_Methods_(PPO).ipynb\" target=\"_parent\"><img src=\"https://colab.research.google.com/assets/colab-badge.svg\" alt=\"Open In Colab\"/></a>"
      ]
    },
    {
      "cell_type": "code",
      "metadata": {
        "colab": {
          "base_uri": "https://localhost:8080/"
        },
        "id": "GpC6vgtq94_F",
        "outputId": "6b50a597-dab3-4a7b-f35c-441db8caf555"
      },
      "source": [
        "import warnings\n",
        "warnings.filterwarnings('ignore')\n",
        "import tensorflow.compat.v1 as tf\n",
        "tf.disable_v2_behavior()\n",
        "\n",
        "import numpy as np\n",
        "import matplotlib.pyplot as plt\n",
        "import gym"
      ],
      "execution_count": null,
      "outputs": [
        {
          "output_type": "stream",
          "text": [
            "WARNING:tensorflow:From /usr/local/lib/python3.7/dist-packages/tensorflow/python/compat/v2_compat.py:96: disable_resource_variables (from tensorflow.python.ops.variable_scope) is deprecated and will be removed in a future version.\n",
            "Instructions for updating:\n",
            "non-resource variables are not supported in the long term\n"
          ],
          "name": "stdout"
        }
      ]
    },
    {
      "cell_type": "code",
      "metadata": {
        "id": "l5QXNbAq-MFm"
      },
      "source": [
        "env = gym.make('Pendulum-v0')\n",
        "state_shape = env.observation_space.shape[0]\n",
        "action_shape = env.observation_space.shape[0]\n",
        "action_bound = [env.action_space.low, env.action_space.high]"
      ],
      "execution_count": null,
      "outputs": []
    },
    {
      "cell_type": "code",
      "metadata": {
        "id": "x61OS_Dm-dam"
      },
      "source": [
        "epsilon = 0.2"
      ],
      "execution_count": null,
      "outputs": []
    },
    {
      "cell_type": "code",
      "metadata": {
        "id": "PVcFmSHp-fDI"
      },
      "source": [
        "class PPO(object):\n",
        "\n",
        "    def __init__(self):\n",
        "        self.sess = tf.Session()\n",
        "        self.state_ph = tf.placeholder(tf.float32, [None, state_shape], 'state')\n",
        "        \n",
        "        with tf.variable_scope('value'):\n",
        "            layer1 = tf.layers.dense(self.state_ph, 100, tf.nn.relu)\n",
        "            self.v = tf.layers.dense(layer1, 1)\n",
        "\n",
        "            self.Q = tf.placeholder(tf.float32, [None, 1], 'discounted_r')\n",
        "            self.advantage = self.Q - self.v\n",
        "\n",
        "            self.value_loss = tf.reduce_mean(tf.square(self.advantage))\n",
        "\n",
        "            self.train_value_nw = tf.train.AdamOptimizer(2e-3).minimize(self.value_loss)\n",
        "        pi, pi_params = self.build_policy_network('pi', trainable=True)\n",
        "        oldpi, oldpi_params = self.build_policy_network('oldpi', trainable=False)\n",
        "\n",
        "        with tf.variable_scope('sample_action'):\n",
        "            self.sample_op = tf.squeeze(pi.sample(1), axis=0)\n",
        "        \n",
        "        with tf.variable_scope('update_oldpi'):\n",
        "            self.update_oldpi_op = [oldp.assign(p) for p, oldp in zip(pi_params, oldpi_params)]\n",
        "        \n",
        "        self.action_ph = tf.placeholder(tf.float32, [None, action_shape], 'action')\n",
        "\n",
        "        self.advantage_ph = tf.placeholder(tf.float32, [None, 1], 'advantage')\n",
        "\n",
        "        with tf.variable_scope('loss'):\n",
        "            with tf.variable_scope('surrogate'):\n",
        "                self.ratio = pi.prob(self.action_ph) / oldpi.prob(self.action_ph)\n",
        "\n",
        "                objective = self.ratio * self.advantage_ph\n",
        "\n",
        "                L = tf.reduce_mean(tf.minimum(objective, \n",
        "                                   tf.clip_by_value(self.ratio, 1.-epsilon, 1. + epsilon) \n",
        "                                   * self.advantage_ph))\n",
        "            self.policy_loss = -L\n",
        "\n",
        "        with tf.variable_scope('train_policy'):\n",
        "            self.train_policy_nw = tf.train.AdamOptimizer(1e-3).minimize(self.policy_loss)\n",
        "\n",
        "        self.sess.run(tf.global_variables_initializer())\n",
        "    \n",
        "    def train(self, state, action, reward):\n",
        "        self.sess.run(self.update_oldpi_op)\n",
        "        adv = self.sess.run(self.advantage, {self.state_ph: state, self.Q: reward})\n",
        "        [self.sess.run(self.train_policy_nw, \n",
        "            {self.state_ph: state, self.action_ph: action, self.advantage_ph: adv}\n",
        "        ) \n",
        "        for _ in range(10)]\n",
        "        [self.sess.run(self.train_value_nw, \n",
        "            {self.state_ph: state, self.Q: reward}\n",
        "        ) \n",
        "        for _ in range(10)]\n",
        "        print(self.sess.run(self.ratio, {self.state_ph:state, self.action_ph: action}))\n",
        "    \n",
        "    def build_policy_network(self, name, trainable):\n",
        "        with tf.variable_scope(name):\n",
        "            layer = tf.layers.dense(self.state_ph, 100, tf.nn.relu, trainable=trainable)\n",
        "            mu = 2 * tf.layers.dense(layer, action_shape, tf.nn.tanh, trainable=trainable)\n",
        "            sigma = tf.layers.dense(layer, action_shape, tf.nn.softplus, trainable=trainable)\n",
        "            norm_dist = tf.distributions.Normal(loc=mu, scale=sigma)\n",
        "        params = tf.get_collection(tf.GraphKeys.GLOBAL_VARIABLES, scope=name)\n",
        "        return norm_dist, params\n",
        "    \n",
        "    def select_action(self, state):\n",
        "        state = state[np.newaxis, :]\n",
        "        action = self.sess.run(self.sample_op, {self.state_ph: state})[0]\n",
        "        action = np.clip(action, action_bound[0], action_bound[1])\n",
        "        return action\n",
        "    \n",
        "    def get_state_value(self, state):\n",
        "        if state.ndim < 2: state = state[np.newaxis, :]\n",
        "        return self.sess.run(self.v, {self.state_ph: state})[0, 0]"
      ],
      "execution_count": null,
      "outputs": []
    },
    {
      "cell_type": "code",
      "metadata": {
        "colab": {
          "background_save": true
        },
        "id": "baCMK85SOatU"
      },
      "source": [
        "ppo = PPO()\n",
        "\n",
        "num_episodes = 2000\n",
        "num_timesteps = 200\n",
        "gamma = 0.9\n",
        "batch_size = 64\n",
        "\n",
        "for i in range(num_episodes):\n",
        "    state = env.reset()\n",
        "    episode_states, episode_actions, episode_rewards = [], [], []\n",
        "    Return = 0\n",
        "\n",
        "    for t in range(num_timesteps):\n",
        "        \n",
        "        #env.render()\n",
        "        action = ppo.select_action(state)\n",
        "\n",
        "        next_state, reward, done, _ = env.step(action)\n",
        "\n",
        "        episode_states.append(state)\n",
        "        episode_rewards.append(reward)\n",
        "        episode_actions.append(action)\n",
        "\n",
        "        state = next_state\n",
        "\n",
        "        Return += reward\n",
        "\n",
        "        if(t+1) % batch_size == 0 or t == num_timesteps-1:\n",
        "\n",
        "            v_s_ = ppo.get_state_value(next_state)\n",
        "\n",
        "            discounted_r = []\n",
        "            for reward in episode_rewards[::-1]:\n",
        "                v_s_ = reward + gamma * v_s_\n",
        "                discounted_r.append(v_s_)\n",
        "            discounted_r.reverse()\n",
        "            \n",
        "            es, ea, er = np.vstack(episode_states), np.vstack(episode_actions), np.array(discounted_r)[:, np.newaxis]\n",
        "            \n",
        "            ppo.train(es, ea, er)\n",
        "\n",
        "            episode_states, episode_actions, episode_rewards = [], [], []\n",
        "        \n",
        "    if i % 10 == 0:\n",
        "        print('Episode: {}, Return: {}'.format(i, Return)) \n",
        "                                                                                         \n"
      ],
      "execution_count": null,
      "outputs": []
    }
  ]
}